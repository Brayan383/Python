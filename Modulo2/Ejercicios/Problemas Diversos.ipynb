{
 "cells": [
  {
   "cell_type": "markdown",
   "metadata": {},
   "source": [
    "# PROBLEMAS DIVERSOS"
   ]
  },
  {
   "cell_type": "markdown",
   "metadata": {},
   "source": [
    "<h3>1.</h3>\n",
    "Realizar una función que permita la carga de n alumnos. Por cada alumno se deberá preguntar el nombre completo y permitir el ingreso de 3 notas. Las notas deben estar comprendidas entre 0 y 10. Devolver el listado de alumnos."
   ]
  },
  {
   "cell_type": "code",
   "execution_count": 1,
   "metadata": {},
   "outputs": [
    {
     "name": "stdin",
     "output_type": "stream",
     "text": [
      "Cuantos alumnos tienes? 1\n"
     ]
    },
    {
     "name": "stdout",
     "output_type": "stream",
     "text": [
      "tienes 1 alumnos\n"
     ]
    },
    {
     "name": "stdin",
     "output_type": "stream",
     "text": [
      "Cual es el nombre de el alumno? HJ\n",
      "Cual es la primera nota? 12\n"
     ]
    },
    {
     "name": "stdout",
     "output_type": "stream",
     "text": [
      "intentelo nuevamente\n"
     ]
    },
    {
     "name": "stdin",
     "output_type": "stream",
     "text": [
      "Cual es la primera nota? 5\n"
     ]
    },
    {
     "name": "stdout",
     "output_type": "stream",
     "text": [
      "la nota es 5\n"
     ]
    },
    {
     "name": "stdin",
     "output_type": "stream",
     "text": [
      "Cual es la segunda nota? 6\n"
     ]
    },
    {
     "name": "stdout",
     "output_type": "stream",
     "text": [
      "la nota es 6\n"
     ]
    },
    {
     "name": "stdin",
     "output_type": "stream",
     "text": [
      "Cual es la tercera nota? 1\n"
     ]
    },
    {
     "name": "stdout",
     "output_type": "stream",
     "text": [
      "la nota es 1\n",
      "el promedio de el alumno  HJ es 4\n",
      "el alumno HJ esta aprobado\n",
      "la lista de alumnos es ['HJ']\n"
     ]
    }
   ],
   "source": [
    "n= int(input(\"Cuantos alumnos tienes?\"))\n",
    "print (\"tienes\",n,\"alumnos\")\n",
    "list=[]            \n",
    "aprob=[]\n",
    "desaprob=[]\n",
    "notas=[]\n",
    "for x in range(n):         \n",
    "    a=input(\"Cual es el nombre de el alumno?\")   \n",
    "    while True:\n",
    "        b1=int(input(\"Cual es la primera nota?\"))  \n",
    "        if b1<=10 and b1>=0:                        \n",
    "            print (\"la nota es\" ,b1)\n",
    "            break\n",
    "        else:\n",
    "            print(\"intentelo nuevamente\")         \n",
    "    while True:\n",
    "        b2=int(input(\"Cual es la segunda nota?\"))\n",
    "        if b2<=10 and b2>=0:\n",
    "            print (\"la nota es\" ,b2)\n",
    "            break\n",
    "        else:\n",
    "            print(\"intentelo nuevamente\")  \n",
    "    while True:\n",
    "        b3=int(input(\"Cual es la tercera nota?\"))\n",
    "        if b3<=10 and b3>=0:\n",
    "            print (\"la nota es\" ,b3)\n",
    "            break\n",
    "        else:\n",
    "            print(\"intentelo nuevamente\")         \n",
    "    promedio=int((b1+b2+b3)/3)                            \n",
    "    print(\"el promedio de el alumno \",a, \"es\" ,promedio)\n",
    "    if promedio>=4:\n",
    "        aprob.append(a)                                   \n",
    "        print (\"el alumno\" ,a, \"esta aprobado\")            \n",
    "    else:\n",
    "        print (\"el alumno\" ,a, \"esta desaprobado\")\n",
    "        desaprob.append(a)\n",
    "    notas.append(promedio)               \n",
    "    list.append(a)                      \n",
    "print(\"la lista de alumnos es\",list)"
   ]
  },
  {
   "cell_type": "markdown",
   "metadata": {},
   "source": [
    "### 2.\n",
    "Definir una función que dado un listado de alumnos evalúe cuántos aprobaron y cuántos desaprobaron, teniendo en cuenta que se aprueba con 4. La nota será el promedio de las 3 notas para cada alumno."
   ]
  },
  {
   "cell_type": "code",
   "execution_count": 3,
   "metadata": {},
   "outputs": [
    {
     "data": {
      "text/plain": [
       "0"
      ]
     },
     "execution_count": 3,
     "metadata": {},
     "output_type": "execute_result"
    }
   ],
   "source": [
    "def funcion(g):\n",
    "    return len(g)\n",
    "\n",
    "funcion(aprob)\n",
    "funcion(desaprob)"
   ]
  },
  {
   "cell_type": "markdown",
   "metadata": {},
   "source": [
    "### 3.\n",
    "Informar el promedio de nota del curso total."
   ]
  },
  {
   "cell_type": "code",
   "execution_count": 4,
   "metadata": {},
   "outputs": [
    {
     "name": "stdout",
     "output_type": "stream",
     "text": [
      "las notas son:  [4]\n",
      "el promedio total del curso es:  4.0\n"
     ]
    }
   ],
   "source": [
    "print( \"las notas son: \",notas)\n",
    "prometio_total_notas=sum(notas)/n  \n",
    "print(\"el promedio total del curso es: \", float(prometio_total_notas))"
   ]
  },
  {
   "cell_type": "code",
   "execution_count": null,
   "metadata": {},
   "outputs": [],
   "source": []
  },
  {
   "cell_type": "markdown",
   "metadata": {},
   "source": [
    "### 4.\n",
    "Realizar una función que indique quién tuvo el promedio más alto y quién tuvo la nota promedio más baja."
   ]
  },
  {
   "cell_type": "code",
   "execution_count": 5,
   "metadata": {},
   "outputs": [
    {
     "name": "stdout",
     "output_type": "stream",
     "text": [
      "la maxima nota es de:  HJ\n",
      "la minima nota es de:  HJ\n"
     ]
    }
   ],
   "source": [
    "max_nota=list[notas.index(max(notas))]\n",
    "print (\"la maxima nota es de: \",max_nota)\n",
    "\n",
    "min_nota=list[notas.index(min(notas))]\n",
    "print (\"la minima nota es de: \",min_nota)"
   ]
  },
  {
   "cell_type": "code",
   "execution_count": null,
   "metadata": {},
   "outputs": [],
   "source": []
  },
  {
   "cell_type": "code",
   "execution_count": null,
   "metadata": {},
   "outputs": [],
   "source": []
  },
  {
   "cell_type": "markdown",
   "metadata": {},
   "source": [
    "### 5.\n",
    "Realizar una función que permita buscar un alumno por nombre, siendo el nombre completo o parcial, y devuelva una lista con los n alumnos que concuerden con ese nombre junto con todos sus datos, incluido el promedio de sus notas."
   ]
  },
  {
   "cell_type": "code",
   "execution_count": 6,
   "metadata": {},
   "outputs": [
    {
     "name": "stdin",
     "output_type": "stream",
     "text": [
      "ingrese el nombre a buscar dff\n"
     ]
    },
    {
     "name": "stdout",
     "output_type": "stream",
     "text": [
      "sí esta en la lista\n"
     ]
    },
    {
     "ename": "ValueError",
     "evalue": "'dff' is not in list",
     "output_type": "error",
     "traceback": [
      "\u001b[1;31m---------------------------------------------------------------------------\u001b[0m",
      "\u001b[1;31mValueError\u001b[0m                                Traceback (most recent call last)",
      "\u001b[1;32m<ipython-input-6-c72d2c76e191>\u001b[0m in \u001b[0;36m<module>\u001b[1;34m\u001b[0m\n\u001b[0;32m      3\u001b[0m     \u001b[0mf\u001b[0m \u001b[1;32min\u001b[0m \u001b[0mlist\u001b[0m\u001b[1;33m\u001b[0m\u001b[1;33m\u001b[0m\u001b[0m\n\u001b[0;32m      4\u001b[0m     \u001b[0mprint\u001b[0m\u001b[1;33m(\u001b[0m\u001b[1;34m\"sí esta en la lista\"\u001b[0m\u001b[1;33m)\u001b[0m\u001b[1;33m\u001b[0m\u001b[1;33m\u001b[0m\u001b[0m\n\u001b[1;32m----> 5\u001b[1;33m     \u001b[0mprint\u001b[0m\u001b[1;33m(\u001b[0m\u001b[1;34m\"el promedio de sus notas es: \"\u001b[0m\u001b[1;33m,\u001b[0m \u001b[0mnotas\u001b[0m\u001b[1;33m[\u001b[0m\u001b[0mlist\u001b[0m\u001b[1;33m.\u001b[0m\u001b[0mindex\u001b[0m\u001b[1;33m(\u001b[0m\u001b[0mf\u001b[0m\u001b[1;33m)\u001b[0m\u001b[1;33m]\u001b[0m\u001b[1;33m)\u001b[0m\u001b[1;33m\u001b[0m\u001b[1;33m\u001b[0m\u001b[0m\n\u001b[0m\u001b[0;32m      6\u001b[0m     \u001b[1;32mif\u001b[0m \u001b[0mnotas\u001b[0m\u001b[1;33m[\u001b[0m\u001b[0mlist\u001b[0m\u001b[1;33m.\u001b[0m\u001b[0mindex\u001b[0m\u001b[1;33m(\u001b[0m\u001b[0mf\u001b[0m\u001b[1;33m)\u001b[0m\u001b[1;33m]\u001b[0m\u001b[1;33m>=\u001b[0m\u001b[1;36m4\u001b[0m\u001b[1;33m:\u001b[0m\u001b[1;33m\u001b[0m\u001b[1;33m\u001b[0m\u001b[0m\n\u001b[0;32m      7\u001b[0m         \u001b[0mprint\u001b[0m \u001b[1;33m(\u001b[0m\u001b[1;34m\"el alumno esta aprobado\"\u001b[0m\u001b[1;33m)\u001b[0m\u001b[1;33m\u001b[0m\u001b[1;33m\u001b[0m\u001b[0m\n",
      "\u001b[1;31mValueError\u001b[0m: 'dff' is not in list"
     ]
    }
   ],
   "source": [
    "f=input(\"ingrese el nombre a buscar\")\n",
    "if True:\n",
    "    f in list\n",
    "    print(\"sí esta en la lista\")\n",
    "    print(\"el promedio de sus notas es: \", notas[list.index(f)])\n",
    "    if notas[list.index(f)]>=4:                                 \n",
    "        print (\"el alumno esta aprobado\")            \n",
    "    else:\n",
    "        print (\"el alumno esta desaprobado\")   \n",
    "else:\n",
    "    print(\"no esta en la lista\")"
   ]
  },
  {
   "cell_type": "code",
   "execution_count": null,
   "metadata": {},
   "outputs": [],
   "source": []
  }
 ],
 "metadata": {
  "kernelspec": {
   "display_name": "Python 3",
   "language": "python",
   "name": "python3"
  },
  "language_info": {
   "codemirror_mode": {
    "name": "ipython",
    "version": 3
   },
   "file_extension": ".py",
   "mimetype": "text/x-python",
   "name": "python",
   "nbconvert_exporter": "python",
   "pygments_lexer": "ipython3",
   "version": "3.8.3"
  }
 },
 "nbformat": 4,
 "nbformat_minor": 4
}
